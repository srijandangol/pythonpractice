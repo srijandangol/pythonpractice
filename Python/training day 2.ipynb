{
 "cells": [
  {
   "cell_type": "code",
   "execution_count": 1,
   "id": "b70ddee6",
   "metadata": {},
   "outputs": [
    {
     "name": "stdout",
     "output_type": "stream",
     "text": [
      "a\n"
     ]
    }
   ],
   "source": [
    "print('a')"
   ]
  },
  {
   "cell_type": "code",
   "execution_count": 2,
   "id": "5f8591b7",
   "metadata": {},
   "outputs": [],
   "source": [
    "dict1 = {'Name': 'Ram', \n",
    "         'Car': 'Ferrari', \n",
    "         'Model': 'F50'}"
   ]
  },
  {
   "cell_type": "code",
   "execution_count": 3,
   "id": "0cca0f3d",
   "metadata": {},
   "outputs": [
    {
     "data": {
      "text/plain": [
       "{'Name': 'Ram', 'Car': 'Ferrari', 'Model': 'F50'}"
      ]
     },
     "execution_count": 3,
     "metadata": {},
     "output_type": "execute_result"
    }
   ],
   "source": [
    "dict1"
   ]
  },
  {
   "cell_type": "code",
   "execution_count": 4,
   "id": "3ddf7840",
   "metadata": {},
   "outputs": [],
   "source": [
    "dict2 = {'Name': 'Ram', \n",
    "         'Car': 'Ferrari', \n",
    "         'Model': 'F50',\n",
    "         'Model': 'veron'}"
   ]
  },
  {
   "cell_type": "code",
   "execution_count": 5,
   "id": "71322bc3",
   "metadata": {},
   "outputs": [
    {
     "data": {
      "text/plain": [
       "{'Name': 'Ram', 'Car': 'Ferrari', 'Model': 'veron'}"
      ]
     },
     "execution_count": 5,
     "metadata": {},
     "output_type": "execute_result"
    }
   ],
   "source": [
    "dict2"
   ]
  },
  {
   "cell_type": "code",
   "execution_count": 6,
   "id": "0050eb40",
   "metadata": {},
   "outputs": [],
   "source": [
    "dict2['Car']=\"buggati\""
   ]
  },
  {
   "cell_type": "code",
   "execution_count": 7,
   "id": "da1cd90f",
   "metadata": {},
   "outputs": [
    {
     "data": {
      "text/plain": [
       "{'Name': 'Ram', 'Car': 'buggati', 'Model': 'veron'}"
      ]
     },
     "execution_count": 7,
     "metadata": {},
     "output_type": "execute_result"
    }
   ],
   "source": [
    "dict2"
   ]
  },
  {
   "cell_type": "code",
   "execution_count": 8,
   "id": "32c43754",
   "metadata": {},
   "outputs": [
    {
     "data": {
      "text/plain": [
       "3"
      ]
     },
     "execution_count": 8,
     "metadata": {},
     "output_type": "execute_result"
    }
   ],
   "source": [
    "len(dict2)"
   ]
  },
  {
   "cell_type": "code",
   "execution_count": 9,
   "id": "284f1c91",
   "metadata": {},
   "outputs": [],
   "source": [
    "dict1['second Dict'] = dict2"
   ]
  },
  {
   "cell_type": "code",
   "execution_count": 10,
   "id": "c1e0c88c",
   "metadata": {},
   "outputs": [
    {
     "data": {
      "text/plain": [
       "{'Name': 'Ram',\n",
       " 'Car': 'Ferrari',\n",
       " 'Model': 'F50',\n",
       " 'second Dict': {'Name': 'Ram', 'Car': 'buggati', 'Model': 'veron'}}"
      ]
     },
     "execution_count": 10,
     "metadata": {},
     "output_type": "execute_result"
    }
   ],
   "source": [
    "dict1"
   ]
  },
  {
   "cell_type": "code",
   "execution_count": 11,
   "id": "86b948e7",
   "metadata": {},
   "outputs": [
    {
     "data": {
      "text/plain": [
       "'veron'"
      ]
     },
     "execution_count": 11,
     "metadata": {},
     "output_type": "execute_result"
    }
   ],
   "source": [
    "dict1['second Dict']['Model']"
   ]
  },
  {
   "cell_type": "code",
   "execution_count": 12,
   "id": "26ce4b66",
   "metadata": {},
   "outputs": [
    {
     "data": {
      "text/plain": [
       "{'Name': 'Ram', 'Car': 'buggati', 'Model': 'veron'}"
      ]
     },
     "execution_count": 12,
     "metadata": {},
     "output_type": "execute_result"
    }
   ],
   "source": [
    "dict1.pop('second Dict')"
   ]
  },
  {
   "cell_type": "code",
   "execution_count": 13,
   "id": "62937fab",
   "metadata": {},
   "outputs": [
    {
     "data": {
      "text/plain": [
       "{'Name': 'Ram', 'Car': 'Ferrari', 'Model': 'F50'}"
      ]
     },
     "execution_count": 13,
     "metadata": {},
     "output_type": "execute_result"
    }
   ],
   "source": [
    "dict1"
   ]
  },
  {
   "cell_type": "code",
   "execution_count": 14,
   "id": "96bc410d",
   "metadata": {},
   "outputs": [],
   "source": [
    "dict2.clear()"
   ]
  },
  {
   "cell_type": "code",
   "execution_count": 15,
   "id": "1a48a55b",
   "metadata": {},
   "outputs": [
    {
     "data": {
      "text/plain": [
       "{}"
      ]
     },
     "execution_count": 15,
     "metadata": {},
     "output_type": "execute_result"
    }
   ],
   "source": [
    "dict2"
   ]
  },
  {
   "cell_type": "code",
   "execution_count": 16,
   "id": "8adc905a",
   "metadata": {},
   "outputs": [],
   "source": [
    "del dict2"
   ]
  },
  {
   "cell_type": "code",
   "execution_count": 17,
   "id": "edd58519",
   "metadata": {},
   "outputs": [
    {
     "ename": "NameError",
     "evalue": "name 'dict2' is not defined",
     "output_type": "error",
     "traceback": [
      "\u001b[1;31m---------------------------------------------------------------------------\u001b[0m",
      "\u001b[1;31mNameError\u001b[0m                                 Traceback (most recent call last)",
      "\u001b[1;32m~\\AppData\\Local\\Temp/ipykernel_16076/2395177987.py\u001b[0m in \u001b[0;36m<module>\u001b[1;34m\u001b[0m\n\u001b[1;32m----> 1\u001b[1;33m \u001b[0mdict2\u001b[0m\u001b[1;33m\u001b[0m\u001b[1;33m\u001b[0m\u001b[0m\n\u001b[0m",
      "\u001b[1;31mNameError\u001b[0m: name 'dict2' is not defined"
     ]
    }
   ],
   "source": [
    "dict2"
   ]
  },
  {
   "cell_type": "code",
   "execution_count": null,
   "id": "24d33d1a",
   "metadata": {},
   "outputs": [],
   "source": [
    "dict1"
   ]
  },
  {
   "cell_type": "code",
   "execution_count": null,
   "id": "32639af6",
   "metadata": {},
   "outputs": [],
   "source": [
    "dict2={'post':'007'}"
   ]
  },
  {
   "cell_type": "code",
   "execution_count": null,
   "id": "541d4c32",
   "metadata": {},
   "outputs": [],
   "source": [
    "dict1.update(dict2)"
   ]
  },
  {
   "cell_type": "code",
   "execution_count": null,
   "id": "be41b231",
   "metadata": {},
   "outputs": [],
   "source": [
    "dict1"
   ]
  },
  {
   "cell_type": "code",
   "execution_count": null,
   "id": "f316dbe4",
   "metadata": {},
   "outputs": [],
   "source": [
    "dict1['year']=2022"
   ]
  },
  {
   "cell_type": "code",
   "execution_count": null,
   "id": "f78f36cb",
   "metadata": {},
   "outputs": [],
   "source": [
    "dict1"
   ]
  },
  {
   "cell_type": "code",
   "execution_count": null,
   "id": "5d56fd8c",
   "metadata": {},
   "outputs": [],
   "source": [
    "\n",
    "\n",
    "#boolean"
   ]
  },
  {
   "cell_type": "code",
   "execution_count": null,
   "id": "5a261207",
   "metadata": {},
   "outputs": [],
   "source": [
    "a=True"
   ]
  },
  {
   "cell_type": "code",
   "execution_count": null,
   "id": "440cc376",
   "metadata": {},
   "outputs": [],
   "source": [
    "type(a)"
   ]
  },
  {
   "cell_type": "code",
   "execution_count": null,
   "id": "7fc09d2e",
   "metadata": {},
   "outputs": [],
   "source": [
    "b=False"
   ]
  },
  {
   "cell_type": "code",
   "execution_count": null,
   "id": "13546ead",
   "metadata": {},
   "outputs": [],
   "source": [
    "a and b"
   ]
  },
  {
   "cell_type": "code",
   "execution_count": null,
   "id": "914c20f2",
   "metadata": {},
   "outputs": [],
   "source": [
    "a or b"
   ]
  },
  {
   "cell_type": "code",
   "execution_count": null,
   "id": "e164fd7a",
   "metadata": {},
   "outputs": [],
   "source": [
    "a =[1,2,3,4]"
   ]
  },
  {
   "cell_type": "code",
   "execution_count": null,
   "id": "b3b41326",
   "metadata": {},
   "outputs": [],
   "source": [
    "1 in a"
   ]
  },
  {
   "cell_type": "code",
   "execution_count": null,
   "id": "da4e3454",
   "metadata": {},
   "outputs": [],
   "source": [
    "5 in a"
   ]
  },
  {
   "cell_type": "code",
   "execution_count": null,
   "id": "207601bc",
   "metadata": {},
   "outputs": [],
   "source": [
    "'country' in dict1"
   ]
  },
  {
   "cell_type": "code",
   "execution_count": null,
   "id": "29a5aa44",
   "metadata": {},
   "outputs": [],
   "source": [
    "'F50' in dict1.values()"
   ]
  },
  {
   "cell_type": "code",
   "execution_count": null,
   "id": "4ce93910",
   "metadata": {},
   "outputs": [],
   "source": [
    "a= 'Hello World!!!'"
   ]
  },
  {
   "cell_type": "code",
   "execution_count": null,
   "id": "844d52c0",
   "metadata": {},
   "outputs": [],
   "source": [
    "'H' in a"
   ]
  },
  {
   "cell_type": "code",
   "execution_count": null,
   "id": "0f5d416d",
   "metadata": {},
   "outputs": [],
   "source": [
    "s = 'ab cde 123'"
   ]
  },
  {
   "cell_type": "code",
   "execution_count": null,
   "id": "0106da43",
   "metadata": {},
   "outputs": [],
   "source": [
    "s.split('d')"
   ]
  },
  {
   "cell_type": "code",
   "execution_count": null,
   "id": "f71d5ed0",
   "metadata": {},
   "outputs": [],
   "source": [
    "s"
   ]
  },
  {
   "cell_type": "code",
   "execution_count": null,
   "id": "16bf586c",
   "metadata": {},
   "outputs": [],
   "source": [
    "s.split(' ')\n",
    "s"
   ]
  },
  {
   "cell_type": "code",
   "execution_count": null,
   "id": "71bf125d",
   "metadata": {},
   "outputs": [],
   "source": [
    "','.join(s)"
   ]
  },
  {
   "cell_type": "code",
   "execution_count": null,
   "id": "3accaa72",
   "metadata": {},
   "outputs": [],
   "source": [
    "s.replace(' ',',')"
   ]
  },
  {
   "cell_type": "code",
   "execution_count": null,
   "id": "f6eb34ba",
   "metadata": {},
   "outputs": [],
   "source": []
  },
  {
   "cell_type": "code",
   "execution_count": 18,
   "id": "b9eb047f",
   "metadata": {},
   "outputs": [
    {
     "name": "stdout",
     "output_type": "stream",
     "text": [
      "enter the number1:23\n"
     ]
    }
   ],
   "source": [
    "a = input('enter the number1:')"
   ]
  },
  {
   "cell_type": "code",
   "execution_count": 19,
   "id": "2cc87eac",
   "metadata": {},
   "outputs": [
    {
     "name": "stdout",
     "output_type": "stream",
     "text": [
      "enter the number2:23\n"
     ]
    }
   ],
   "source": [
    "b = input('enter the number2:')"
   ]
  },
  {
   "cell_type": "code",
   "execution_count": 20,
   "id": "a3da0a41",
   "metadata": {},
   "outputs": [],
   "source": [
    "a=int(a)\n",
    "b=int(b)"
   ]
  },
  {
   "cell_type": "code",
   "execution_count": 22,
   "id": "70e1c7f9",
   "metadata": {},
   "outputs": [
    {
     "data": {
      "text/plain": [
       "46"
      ]
     },
     "execution_count": 22,
     "metadata": {},
     "output_type": "execute_result"
    }
   ],
   "source": [
    "a+b"
   ]
  },
  {
   "cell_type": "code",
   "execution_count": 21,
   "id": "b1bd8ec9",
   "metadata": {},
   "outputs": [
    {
     "name": "stdout",
     "output_type": "stream",
     "text": [
      "Python 3.9.7\n"
     ]
    }
   ],
   "source": [
    "!python --version"
   ]
  },
  {
   "cell_type": "code",
   "execution_count": 23,
   "id": "9e3be190",
   "metadata": {},
   "outputs": [],
   "source": [
    "a,b,c=(1,2,3)\n",
    "#value unpacking"
   ]
  },
  {
   "cell_type": "code",
   "execution_count": 24,
   "id": "59347ab1",
   "metadata": {},
   "outputs": [
    {
     "data": {
      "text/plain": [
       "1"
      ]
     },
     "execution_count": 24,
     "metadata": {},
     "output_type": "execute_result"
    }
   ],
   "source": [
    "a"
   ]
  },
  {
   "cell_type": "code",
   "execution_count": 25,
   "id": "3909e296",
   "metadata": {},
   "outputs": [
    {
     "data": {
      "text/plain": [
       "2"
      ]
     },
     "execution_count": 25,
     "metadata": {},
     "output_type": "execute_result"
    }
   ],
   "source": [
    "b"
   ]
  },
  {
   "cell_type": "code",
   "execution_count": 26,
   "id": "9924c9d5",
   "metadata": {},
   "outputs": [
    {
     "data": {
      "text/plain": [
       "3"
      ]
     },
     "execution_count": 26,
     "metadata": {},
     "output_type": "execute_result"
    }
   ],
   "source": [
    "c"
   ]
  },
  {
   "cell_type": "code",
   "execution_count": 30,
   "id": "fe63b4ba",
   "metadata": {},
   "outputs": [
    {
     "name": "stdout",
     "output_type": "stream",
     "text": [
      "enter two numbers: 12 11\n"
     ]
    }
   ],
   "source": [
    "num1 = input('enter two numbers: ')"
   ]
  },
  {
   "cell_type": "code",
   "execution_count": 32,
   "id": "f85b9fd7",
   "metadata": {},
   "outputs": [
    {
     "data": {
      "text/plain": [
       "['12', '11']"
      ]
     },
     "execution_count": 32,
     "metadata": {},
     "output_type": "execute_result"
    }
   ],
   "source": [
    "num1.split(' ')"
   ]
  },
  {
   "cell_type": "code",
   "execution_count": 33,
   "id": "5b8f4a1f",
   "metadata": {},
   "outputs": [],
   "source": [
    "a,b = num1.split(' ')"
   ]
  },
  {
   "cell_type": "code",
   "execution_count": 36,
   "id": "44fa6b25",
   "metadata": {},
   "outputs": [
    {
     "data": {
      "text/plain": [
       "('12', '11')"
      ]
     },
     "execution_count": 36,
     "metadata": {},
     "output_type": "execute_result"
    }
   ],
   "source": [
    "a,b"
   ]
  },
  {
   "cell_type": "code",
   "execution_count": 37,
   "id": "043bc8d3",
   "metadata": {},
   "outputs": [],
   "source": [
    "a,b = int(a), int(b)"
   ]
  },
  {
   "cell_type": "code",
   "execution_count": 38,
   "id": "09936192",
   "metadata": {},
   "outputs": [
    {
     "data": {
      "text/plain": [
       "23"
      ]
     },
     "execution_count": 38,
     "metadata": {},
     "output_type": "execute_result"
    }
   ],
   "source": [
    "a+b"
   ]
  },
  {
   "cell_type": "code",
   "execution_count": 39,
   "id": "f4587206",
   "metadata": {},
   "outputs": [
    {
     "data": {
      "text/plain": [
       "'\\n    try:\\n        codes\\n    except:\\n'"
      ]
     },
     "execution_count": 39,
     "metadata": {},
     "output_type": "execute_result"
    }
   ],
   "source": [
    "'''\n",
    "Exception Handling\n",
    "\n",
    "    try:\n",
    "        codes\n",
    "    except:\n",
    "        codes\n",
    "        \n",
    "'''"
   ]
  },
  {
   "cell_type": "code",
   "execution_count": 58,
   "id": "1ca8a536",
   "metadata": {},
   "outputs": [
    {
     "name": "stdout",
     "output_type": "stream",
     "text": [
      "enter two numbers: 12 12\n",
      "12.0 12.0\n"
     ]
    }
   ],
   "source": [
    "ans = input('enter two numbers: ')\n",
    "a,b = ans.split(' ')\n",
    "a,b=float(a),float(b)\n",
    "print(a,b)"
   ]
  },
  {
   "cell_type": "code",
   "execution_count": 59,
   "id": "dc8289d1",
   "metadata": {},
   "outputs": [
    {
     "data": {
      "text/plain": [
       "float"
      ]
     },
     "execution_count": 59,
     "metadata": {},
     "output_type": "execute_result"
    }
   ],
   "source": [
    "type(a)"
   ]
  },
  {
   "cell_type": "code",
   "execution_count": 60,
   "id": "118165f4",
   "metadata": {},
   "outputs": [
    {
     "data": {
      "text/plain": [
       "144.0"
      ]
     },
     "execution_count": 60,
     "metadata": {},
     "output_type": "execute_result"
    }
   ],
   "source": [
    "\n",
    "a*b"
   ]
  },
  {
   "cell_type": "code",
   "execution_count": 61,
   "id": "7296b8f9",
   "metadata": {},
   "outputs": [],
   "source": [
    "a = 23\n",
    "b = 14"
   ]
  },
  {
   "cell_type": "code",
   "execution_count": 64,
   "id": "c894f29e",
   "metadata": {},
   "outputs": [
    {
     "name": "stdout",
     "output_type": "stream",
     "text": [
      "A is 23,B is 14\n"
     ]
    }
   ],
   "source": [
    "#string formatting\n",
    "st = f'A is {a},B is {b}'\n",
    "print(st)"
   ]
  },
  {
   "cell_type": "code",
   "execution_count": 75,
   "id": "de6f5dc1",
   "metadata": {},
   "outputs": [
    {
     "ename": "SyntaxError",
     "evalue": "invalid syntax (Temp/ipykernel_16076/1187044331.py, line 1)",
     "output_type": "error",
     "traceback": [
      "\u001b[1;36m  File \u001b[1;32m\"C:\\Users\\asus\\AppData\\Local\\Temp/ipykernel_16076/1187044331.py\"\u001b[1;36m, line \u001b[1;32m1\u001b[0m\n\u001b[1;33m    label:\u001b[0m\n\u001b[1;37m          ^\u001b[0m\n\u001b[1;31mSyntaxError\u001b[0m\u001b[1;31m:\u001b[0m invalid syntax\n"
     ]
    }
   ],
   "source": [
    "ans = input('enter two numbers: ')\n",
    "a,b = ans.split(' ')\n",
    "try:\n",
    "    a,b = float(a),float(b)\n",
    "    print(f'sum: {a+b}')\n",
    "    print(f'difference: {a-b}')\n",
    "except ValueError as e:\n",
    "    print(e)\n",
    "    print('enter valid number')\n"
   ]
  },
  {
   "cell_type": "markdown",
   "id": "2694b8d0",
   "metadata": {},
   "source": []
  },
  {
   "cell_type": "code",
   "execution_count": null,
   "id": "eb3baf86",
   "metadata": {},
   "outputs": [],
   "source": []
  }
 ],
 "metadata": {
  "kernelspec": {
   "display_name": "Python 3 (ipykernel)",
   "language": "python",
   "name": "python3"
  },
  "language_info": {
   "codemirror_mode": {
    "name": "ipython",
    "version": 3
   },
   "file_extension": ".py",
   "mimetype": "text/x-python",
   "name": "python",
   "nbconvert_exporter": "python",
   "pygments_lexer": "ipython3",
   "version": "3.9.7"
  }
 },
 "nbformat": 4,
 "nbformat_minor": 5
}
