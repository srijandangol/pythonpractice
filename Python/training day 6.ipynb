{
 "cells": [
  {
   "cell_type": "code",
   "execution_count": 1,
   "id": "d1e34374",
   "metadata": {},
   "outputs": [],
   "source": [
    "#randomness only exists in nature not in computer science\n",
    "# randomchoice: [up, down, left, right]\n",
    "#random_number\n",
    "import random\n"
   ]
  },
  {
   "cell_type": "code",
   "execution_count": 2,
   "id": "be05a72b",
   "metadata": {},
   "outputs": [],
   "source": [
    "#there is a seed\n",
    "\n",
    "random.seed(666)"
   ]
  },
  {
   "cell_type": "code",
   "execution_count": 3,
   "id": "89518377",
   "metadata": {},
   "outputs": [
    {
     "data": {
      "text/plain": [
       "59"
      ]
     },
     "execution_count": 3,
     "metadata": {},
     "output_type": "execute_result"
    }
   ],
   "source": [
    "random.randint(1,100)"
   ]
  },
  {
   "cell_type": "code",
   "execution_count": 4,
   "id": "8a9a30f3",
   "metadata": {},
   "outputs": [
    {
     "data": {
      "text/plain": [
       "[49, 56, 37, 65, 2, 71, 71, 100, 92, 43]"
      ]
     },
     "execution_count": 4,
     "metadata": {},
     "output_type": "execute_result"
    }
   ],
   "source": [
    "#normal method -> vanilla method\n",
    "x = range(0,10)\n",
    "randomlist=[]\n",
    "for i in x:\n",
    "    randomlist.append(random.randint(1,100))\n",
    "    \n",
    "randomlist"
   ]
  },
  {
   "cell_type": "code",
   "execution_count": 5,
   "id": "b8b68420",
   "metadata": {},
   "outputs": [
    {
     "data": {
      "text/plain": [
       "[49, 56, 37, 65, 2, 71, 71, 100, 92, 43]"
      ]
     },
     "execution_count": 5,
     "metadata": {},
     "output_type": "execute_result"
    }
   ],
   "source": [
    "[55, 14, 31, 31, 39, 33, 79, 82, 83, 54]\n",
    "\n",
    "[49, 56, 37, 65, 2, 71, 71, 100, 92, 43]\n",
    "\n"
   ]
  },
  {
   "cell_type": "code",
   "execution_count": 6,
   "id": "301a4fda",
   "metadata": {},
   "outputs": [
    {
     "data": {
      "text/plain": [
       "[16, 7, 19, 50, 81, 60, 75, 32, 3, 15]"
      ]
     },
     "execution_count": 6,
     "metadata": {},
     "output_type": "execute_result"
    }
   ],
   "source": [
    "#python method -> using less code line\n",
    "list_num=[random.randint(1,100) for i in range(10)]\n",
    "list_num"
   ]
  },
  {
   "cell_type": "code",
   "execution_count": 7,
   "id": "769c9fcf",
   "metadata": {},
   "outputs": [
    {
     "data": {
      "text/plain": [
       "'left'"
      ]
     },
     "execution_count": 7,
     "metadata": {},
     "output_type": "execute_result"
    }
   ],
   "source": [
    "moves =['up','down', 'left', 'right']\n",
    "random.choice(moves)"
   ]
  },
  {
   "cell_type": "code",
   "execution_count": 8,
   "id": "ba9634ba",
   "metadata": {},
   "outputs": [
    {
     "ename": "SyntaxError",
     "evalue": "invalid syntax (813256557.py, line 7)",
     "output_type": "error",
     "traceback": [
      "\u001b[1;36m  Input \u001b[1;32mIn [8]\u001b[1;36m\u001b[0m\n\u001b[1;33m    factorial=\u001b[0m\n\u001b[1;37m              ^\u001b[0m\n\u001b[1;31mSyntaxError\u001b[0m\u001b[1;31m:\u001b[0m invalid syntax\n"
     ]
    }
   ],
   "source": [
    "#def fact(a):\n",
    "x=int(input('Enter factorial number: '))\n",
    "l=[]\n",
    "for i in range(1,x+1):\n",
    "    l.append(i)\n",
    "    \n",
    "factorial=\n"
   ]
  },
  {
   "cell_type": "code",
   "execution_count": 10,
   "id": "284da530",
   "metadata": {},
   "outputs": [
    {
     "data": {
      "text/plain": [
       "5040"
      ]
     },
     "execution_count": 10,
     "metadata": {},
     "output_type": "execute_result"
    }
   ],
   "source": [
    "def fact(n):\n",
    "    if n==0:\n",
    "        return 1\n",
    "    \n",
    "    fac = 1\n",
    "    for i in range (1,1+n):\n",
    "        fac *=i\n",
    "    return fac\n",
    "\n",
    "fact(7)"
   ]
  },
  {
   "cell_type": "code",
   "execution_count": null,
   "id": "68b85e15",
   "metadata": {},
   "outputs": [],
   "source": [
    "#recursive method -> afaile afailai bolayo bhane recursive bhanincha\n",
    "def funcA():\n",
    "    print ('Its Recursive')\n",
    "    funcA()  #function call"
   ]
  },
  {
   "cell_type": "code",
   "execution_count": null,
   "id": "d24ceb10",
   "metadata": {},
   "outputs": [],
   "source": [
    "# Note this function is never ending -> funcA()"
   ]
  },
  {
   "cell_type": "code",
   "execution_count": 11,
   "id": "4648fa2d",
   "metadata": {},
   "outputs": [
    {
     "name": "stdout",
     "output_type": "stream",
     "text": [
      "Enter number for factorial: 4\n"
     ]
    },
    {
     "data": {
      "text/plain": [
       "24"
      ]
     },
     "execution_count": 11,
     "metadata": {},
     "output_type": "execute_result"
    }
   ],
   "source": [
    "#using recursive method to find factorial\n",
    "def fact_recursion(n):\n",
    "    if n<=1:\n",
    "        return 1\n",
    "    return n*fact_recursion(n-1)\n",
    "\n",
    "fact_recursion(int(input('Enter number for factorial: ')))\n",
    "    "
   ]
  },
  {
   "cell_type": "code",
   "execution_count": 34,
   "id": "9386108a",
   "metadata": {},
   "outputs": [
    {
     "name": "stdout",
     "output_type": "stream",
     "text": [
      "Enter number for fibonacci series: 7\n"
     ]
    },
    {
     "data": {
      "text/plain": [
       "[0, 1, 1, 2, 3, 5, 8]"
      ]
     },
     "execution_count": 34,
     "metadata": {},
     "output_type": "execute_result"
    }
   ],
   "source": [
    "#create a fibonacci series \n",
    "\n",
    "def fibo(n):\n",
    "    if n==1:\n",
    "        return [0,]\n",
    "\n",
    "    sequence = [0,1]\n",
    "    count = 1\n",
    "    while n> count +1:\n",
    "            sequence.append(sequence[count-1]+sequence[count])\n",
    "            count +=1\n",
    "    return sequence\n",
    "    \n",
    "           \n",
    "fibo(int(input('Enter number for fibonacci series: ')))"
   ]
  },
  {
   "cell_type": "code",
   "execution_count": 33,
   "id": "5b42a907",
   "metadata": {},
   "outputs": [
    {
     "data": {
      "text/plain": [
       "'l=[]\\n   a=1\\n   b=1\\n   for i in range (0,n):\\n       l.append(a)\\n       a=a+b\\n       b=a\\n       \\n       \\n   return l\\n   \\n   '"
      ]
     },
     "execution_count": 33,
     "metadata": {},
     "output_type": "execute_result"
    }
   ],
   "source": [
    " '''l=[]\n",
    "    a=1\n",
    "    b=1\n",
    "    for i in range (0,n):\n",
    "        l.append(a)\n",
    "        a=a+b\n",
    "        b=a   \n",
    "    return l\n",
    "    \n",
    "    '''\n",
    "    "
   ]
  },
  {
   "cell_type": "code",
   "execution_count": 2,
   "id": "949f8286",
   "metadata": {},
   "outputs": [
    {
     "name": "stdout",
     "output_type": "stream",
     "text": [
      "Enter number for fibonacci series: 5\n"
     ]
    },
    {
     "data": {
      "text/plain": [
       "5"
      ]
     },
     "execution_count": 2,
     "metadata": {},
     "output_type": "execute_result"
    }
   ],
   "source": [
    "#using recursive method to find fibonacci series\n",
    "def fibo_recursion(n):\n",
    "    if n <= 1:\n",
    "        return n\n",
    "    return fibo_recursion(n-1) + fibo_recursion(n-2)\n",
    "\n",
    "fibo_recursion(int(input('Enter number for fibonacci series: ')))"
   ]
  },
  {
   "cell_type": "code",
   "execution_count": 3,
   "id": "e2217e06",
   "metadata": {},
   "outputs": [
    {
     "name": "stdout",
     "output_type": "stream",
     "text": [
      "0\n",
      "1\n",
      "1\n",
      "2\n",
      "3\n",
      "5\n",
      "8\n",
      "13\n",
      "21\n",
      "34\n"
     ]
    }
   ],
   "source": [
    "for i in range(10):\n",
    "    print (fibo_recursion(i))"
   ]
  },
  {
   "cell_type": "code",
   "execution_count": 6,
   "id": "f9583886",
   "metadata": {},
   "outputs": [
    {
     "name": "stdout",
     "output_type": "stream",
     "text": [
      "Enter number:4\n"
     ]
    },
    {
     "data": {
      "text/plain": [
       "[0, 1, 1, 2]"
      ]
     },
     "execution_count": 6,
     "metadata": {},
     "output_type": "execute_result"
    }
   ],
   "source": [
    "l=[]\n",
    "for i in range(int(input('Enter number:'))):\n",
    "    l.append(fibo_recursion(i))\n",
    "    \n",
    "l"
   ]
  },
  {
   "cell_type": "code",
   "execution_count": 7,
   "id": "d7681cb1",
   "metadata": {},
   "outputs": [],
   "source": [
    "#file handling ->CRUD (create, read, update, delete)\n",
    "f= open ('text.txt', mode='w') #press shift+tab"
   ]
  },
  {
   "cell_type": "code",
   "execution_count": 9,
   "id": "3cc6a7ad",
   "metadata": {},
   "outputs": [
    {
     "data": {
      "text/plain": [
       "['line 0\\n',\n",
       " 'line 1\\n',\n",
       " 'line 2\\n',\n",
       " 'line 3\\n',\n",
       " 'line 4\\n',\n",
       " 'line 5\\n',\n",
       " 'line 6\\n',\n",
       " 'line 7\\n',\n",
       " 'line 8\\n',\n",
       " 'line 9\\n',\n",
       " 'line 10\\n',\n",
       " 'line 11\\n',\n",
       " 'line 12\\n',\n",
       " 'line 13\\n',\n",
       " 'line 14\\n',\n",
       " 'line 15\\n',\n",
       " 'line 16\\n',\n",
       " 'line 17\\n',\n",
       " 'line 18\\n',\n",
       " 'line 19\\n']"
      ]
     },
     "execution_count": 9,
     "metadata": {},
     "output_type": "execute_result"
    }
   ],
   "source": [
    "data = [f'line {i}\\n' for i in range(20)]\n",
    "data"
   ]
  },
  {
   "cell_type": "code",
   "execution_count": 10,
   "id": "afe9398b",
   "metadata": {},
   "outputs": [],
   "source": [
    "f.writelines(data)\n",
    "f.close()"
   ]
  },
  {
   "cell_type": "code",
   "execution_count": 12,
   "id": "c3dd161a",
   "metadata": {},
   "outputs": [],
   "source": [
    "f = open('text.txt', mode='a+')"
   ]
  },
  {
   "cell_type": "code",
   "execution_count": 16,
   "id": "f0817646",
   "metadata": {},
   "outputs": [
    {
     "data": {
      "text/plain": [
       "['line 0\\n',\n",
       " 'line 1\\n',\n",
       " 'line 2\\n',\n",
       " 'line 3\\n',\n",
       " 'line 4\\n',\n",
       " 'line 5\\n',\n",
       " 'line 6\\n',\n",
       " 'line 7\\n',\n",
       " 'line 8\\n',\n",
       " 'line 9\\n',\n",
       " 'line 10\\n',\n",
       " 'line 11\\n',\n",
       " 'line 12\\n',\n",
       " 'line 13\\n',\n",
       " 'line 14\\n',\n",
       " 'line 15\\n',\n",
       " 'line 16\\n',\n",
       " 'line 17\\n',\n",
       " 'line 18\\n',\n",
       " 'line 19\\n']"
      ]
     },
     "execution_count": 16,
     "metadata": {},
     "output_type": "execute_result"
    }
   ],
   "source": [
    "f.seek(0)\n",
    "f.readlines()"
   ]
  },
  {
   "cell_type": "code",
   "execution_count": 18,
   "id": "d6ced3d0",
   "metadata": {},
   "outputs": [
    {
     "data": {
      "text/plain": [
       "8"
      ]
     },
     "execution_count": 18,
     "metadata": {},
     "output_type": "execute_result"
    }
   ],
   "source": [
    "f.write('line 20\\n')\n",
    "\n",
    "#note 8 means that 8 characters are added"
   ]
  },
  {
   "cell_type": "code",
   "execution_count": 19,
   "id": "41fe77ed",
   "metadata": {},
   "outputs": [
    {
     "data": {
      "text/plain": [
       "['line 0\\n',\n",
       " 'line 1\\n',\n",
       " 'line 2\\n',\n",
       " 'line 3\\n',\n",
       " 'line 4\\n',\n",
       " 'line 5\\n',\n",
       " 'line 6\\n',\n",
       " 'line 7\\n',\n",
       " 'line 8\\n',\n",
       " 'line 9\\n',\n",
       " 'line 10\\n',\n",
       " 'line 11\\n',\n",
       " 'line 12\\n',\n",
       " 'line 13\\n',\n",
       " 'line 14\\n',\n",
       " 'line 15\\n',\n",
       " 'line 16\\n',\n",
       " 'line 17\\n',\n",
       " 'line 18\\n',\n",
       " 'line 19\\n',\n",
       " 'line 20\\n']"
      ]
     },
     "execution_count": 19,
     "metadata": {},
     "output_type": "execute_result"
    }
   ],
   "source": [
    "f.seek(0)\n",
    "f.readlines()"
   ]
  },
  {
   "cell_type": "code",
   "execution_count": null,
   "id": "c03ea49d",
   "metadata": {},
   "outputs": [],
   "source": []
  }
 ],
 "metadata": {
  "kernelspec": {
   "display_name": "Python 3 (ipykernel)",
   "language": "python",
   "name": "python3"
  },
  "language_info": {
   "codemirror_mode": {
    "name": "ipython",
    "version": 3
   },
   "file_extension": ".py",
   "mimetype": "text/x-python",
   "name": "python",
   "nbconvert_exporter": "python",
   "pygments_lexer": "ipython3",
   "version": "3.9.7"
  }
 },
 "nbformat": 4,
 "nbformat_minor": 5
}
