{
 "cells": [
  {
   "cell_type": "code",
   "execution_count": 13,
   "id": "e62f969d",
   "metadata": {},
   "outputs": [
    {
     "name": "stdout",
     "output_type": "stream",
     "text": [
      "#\n",
      "##\n",
      "###\n",
      "####\n"
     ]
    }
   ],
   "source": [
    "for i in range(1,5):\n",
    "    print (\"#\"*i)\n",
    "   "
   ]
  },
  {
   "cell_type": "code",
   "execution_count": 14,
   "id": "2c131e91",
   "metadata": {},
   "outputs": [],
   "source": [
    "?print"
   ]
  },
  {
   "cell_type": "code",
   "execution_count": 16,
   "id": "cf56cb75",
   "metadata": {},
   "outputs": [
    {
     "name": "stdout",
     "output_type": "stream",
     "text": [
      "Enter string: sdfaefdf\n",
      "sdfaefdf\n"
     ]
    }
   ],
   "source": [
    "user_input= input(\"Enter string: \")\n",
    "print(user_input)"
   ]
  },
  {
   "cell_type": "code",
   "execution_count": 32,
   "id": "eb85e165",
   "metadata": {},
   "outputs": [
    {
     "name": "stdout",
     "output_type": "stream",
     "text": [
      "Enter string: aeiouadraree\n",
      "aeiouadraree\n",
      "a : 3\n",
      "e: 3\n",
      "i: 1\n",
      "o: 1\n",
      "u: 1\n"
     ]
    }
   ],
   "source": [
    "a=0\n",
    "e=0\n",
    "i=0\n",
    "o=0\n",
    "u=0\n",
    "user_input= input(\"Enter string: \")\n",
    "print(user_input)\n",
    "\n",
    "user_input[0]\n",
    "\n",
    "for z in range(0,len(user_input)):\n",
    "    if user_input[z]=='a':\n",
    "        a=a+1\n",
    "    elif user_input[z]=='e':\n",
    "        e=e+1\n",
    "    elif user_input[z]=='i':\n",
    "        i=i+1\n",
    "    elif user_input[z]=='o':\n",
    "        o=o+1\n",
    "    elif user_input[z]=='u':\n",
    "        u=u+1\n",
    "        \n",
    "print(f'a : {a}')\n",
    "print(f'e: {e}')\n",
    "print(f'i: {i}')\n",
    "print(f'o: {o}')\n",
    "print(f'u: {u}')\n",
    "\n",
    "#Code is too long. Use data structure\n",
    "   "
   ]
  },
  {
   "cell_type": "code",
   "execution_count": 34,
   "id": "17b9438d",
   "metadata": {},
   "outputs": [
    {
     "name": "stdout",
     "output_type": "stream",
     "text": [
      "a\n",
      "e\n",
      "i\n",
      "o\n",
      "u\n",
      "a\n",
      "a\n",
      "e\n",
      "e\n"
     ]
    },
    {
     "data": {
      "text/plain": [
       "{'a': 3, 'e': 3, 'i': 1, 'o': 1, 'u': 1}"
      ]
     },
     "execution_count": 34,
     "metadata": {},
     "output_type": "execute_result"
    }
   ],
   "source": [
    "#write program to count number of vowels (aeiou) in string\n",
    "counts= {\n",
    "    'a':0,\n",
    "    'e':0,\n",
    "    'i':0,\n",
    "    'o':0,\n",
    "    'u':0\n",
    "}\n",
    "\n",
    "for each_char in user_input:\n",
    "    if each_char in counts.keys():\n",
    "        counts[each_char] += 1\n",
    "        print(each_char)\n",
    "\n",
    "counts"
   ]
  },
  {
   "cell_type": "code",
   "execution_count": 45,
   "id": "04cc204b",
   "metadata": {},
   "outputs": [
    {
     "name": "stdout",
     "output_type": "stream",
     "text": [
      "Enter string: weradferdfyyer\n",
      "w\n",
      "e\n",
      "r\n",
      "a\n",
      "d\n",
      "f\n",
      "e\n",
      "r\n",
      "d\n",
      "f\n",
      "y\n",
      "y\n",
      "e\n",
      "r\n"
     ]
    },
    {
     "data": {
      "text/plain": [
       "{'w': 1, 'e': 3, 'r': 3, 'a': 1, 'd': 2, 'f': 2, 'y': 2}"
      ]
     },
     "execution_count": 45,
     "metadata": {},
     "output_type": "execute_result"
    }
   ],
   "source": [
    "#write program to count number of all alphabets in string\n",
    "#1st method\n",
    "\n",
    "user_input= input(\"Enter string: \")\n",
    "counts= {\n",
    "    \n",
    "} \n",
    "    \n",
    "for each_char in user_input: \n",
    "    if each_char not in counts:\n",
    "        counts[each_char]=0\n",
    "    if each_char in counts.keys():\n",
    "        counts[each_char] += 1\n",
    "        print(each_char)\n",
    "\n",
    "counts"
   ]
  },
  {
   "cell_type": "code",
   "execution_count": 46,
   "id": "90cb38e6",
   "metadata": {},
   "outputs": [
    {
     "name": "stdout",
     "output_type": "stream",
     "text": [
      "Enter string: adaredfadf\n"
     ]
    },
    {
     "data": {
      "text/plain": [
       "{'a': 3, 'd': 3, 'r': 1, 'e': 1, 'f': 2}"
      ]
     },
     "execution_count": 46,
     "metadata": {},
     "output_type": "execute_result"
    }
   ],
   "source": [
    "#write program to count number of all alphabets in string\n",
    "#2nd method\n",
    "\n",
    "user_input= input(\"Enter string: \")\n",
    "counts= {\n",
    "    \n",
    "} \n",
    "    \n",
    "for each_char in user_input: \n",
    "    if each_char in counts.keys():\n",
    "        counts[each_char]+=1\n",
    "    else:\n",
    "        counts[each_char] =1 \n",
    "\n",
    "counts"
   ]
  },
  {
   "cell_type": "code",
   "execution_count": 47,
   "id": "c2e13076",
   "metadata": {},
   "outputs": [],
   "source": [
    "#using library\n",
    "#built by python developers\n",
    "\n",
    "from collections import Counter"
   ]
  },
  {
   "cell_type": "code",
   "execution_count": 48,
   "id": "db25dfe0",
   "metadata": {},
   "outputs": [
    {
     "data": {
      "text/plain": [
       "Counter({'a': 3, 'd': 3, 'r': 1, 'e': 1, 'f': 2})"
      ]
     },
     "execution_count": 48,
     "metadata": {},
     "output_type": "execute_result"
    }
   ],
   "source": [
    "Counter(user_input)"
   ]
  },
  {
   "cell_type": "code",
   "execution_count": 64,
   "id": "7657aa3f",
   "metadata": {},
   "outputs": [
    {
     "name": "stdout",
     "output_type": "stream",
     "text": [
      "Enter any number: 78963\n",
      "The number 78963 is odd\n"
     ]
    }
   ],
   "source": [
    "#find odd or even\n",
    "\n",
    "num_input= input('Enter any number: ')\n",
    "num_input = int(num_input)\n",
    "    if num_input%i ==0:\n",
    "        print(f'The number {num_input} is even')\n",
    "    else: \n",
    "        print(f'The number {num_input} is odd')"
   ]
  },
  {
   "cell_type": "code",
   "execution_count": 61,
   "id": "59e6e74e",
   "metadata": {},
   "outputs": [
    {
     "name": "stdout",
     "output_type": "stream",
     "text": [
      "The number 545896 is even\n"
     ]
    }
   ],
   "source": []
  },
  {
   "cell_type": "code",
   "execution_count": 65,
   "id": "745a5bf0",
   "metadata": {},
   "outputs": [
    {
     "data": {
      "text/plain": [
       "int"
      ]
     },
     "execution_count": 65,
     "metadata": {},
     "output_type": "execute_result"
    }
   ],
   "source": [
    "type(num_input)\n",
    " "
   ]
  },
  {
   "cell_type": "code",
   "execution_count": 75,
   "id": "20a56f77",
   "metadata": {},
   "outputs": [
    {
     "name": "stdout",
     "output_type": "stream",
     "text": [
      "Enter any number: 169\n",
      "The number is not prime\n"
     ]
    }
   ],
   "source": [
    "#find prime numbers or not\n",
    "\n",
    "#note: stacks are created once a range is defined\n",
    "\n",
    "num_input= input('Enter any number: ')\n",
    "num_input = int(num_input)\n",
    "prime = 'True'\n",
    "for i in range (2,num_input-1):\n",
    "    if num_input == 2:\n",
    "        break\n",
    "    if num_input%i == 0:\n",
    "        prime = 'False'\n",
    "        break\n",
    "if prime=='False':\n",
    "    print('The number is not prime')  \n",
    "else:\n",
    "    print('The number is prime')\n"
   ]
  },
  {
   "cell_type": "code",
   "execution_count": 82,
   "id": "bc4d2bea",
   "metadata": {},
   "outputs": [
    {
     "name": "stdout",
     "output_type": "stream",
     "text": [
      "Enter any number: 2\n",
      "The number is prime\n"
     ]
    }
   ],
   "source": [
    "from math import sqrt\n",
    "num_input= input('Enter any number: ')\n",
    "num_input = int(num_input)\n",
    "prime = 'True'\n",
    "for i in range (2,int(sqrt(num_input))):\n",
    "    if num_input == 2:\n",
    "        break\n",
    "    if num_input%i == 0:\n",
    "        prime = 'False'\n",
    "        break\n",
    "        \n",
    "if prime=='False':\n",
    "    print('The number is not prime')  \n",
    "else:\n",
    "    print('The number is prime')"
   ]
  },
  {
   "cell_type": "code",
   "execution_count": 91,
   "id": "29c62532",
   "metadata": {},
   "outputs": [
    {
     "data": {
      "text/plain": [
       "[0, 1, 4, 9, 16, 25, 36]"
      ]
     },
     "execution_count": 91,
     "metadata": {},
     "output_type": "execute_result"
    }
   ],
   "source": [
    "# print square of index in list, eg: [0,1,4,9,16,25,36]\n",
    "\n",
    "#traditional way\n",
    "\n",
    "i=0\n",
    "l=[]\n",
    "for i in range(7):\n",
    "    l.append(i**2)\n",
    "l"
   ]
  },
  {
   "cell_type": "code",
   "execution_count": 95,
   "id": "94b74a9c",
   "metadata": {},
   "outputs": [
    {
     "data": {
      "text/plain": [
       "[0, 1, 4, 9, 16, 25, 36]"
      ]
     },
     "execution_count": 95,
     "metadata": {},
     "output_type": "execute_result"
    }
   ],
   "source": [
    "z=[x**2 for x in range(7)]\n",
    "z"
   ]
  },
  {
   "cell_type": "code",
   "execution_count": null,
   "id": "4a53eab6",
   "metadata": {},
   "outputs": [],
   "source": []
  }
 ],
 "metadata": {
  "kernelspec": {
   "display_name": "Python 3 (ipykernel)",
   "language": "python",
   "name": "python3"
  },
  "language_info": {
   "codemirror_mode": {
    "name": "ipython",
    "version": 3
   },
   "file_extension": ".py",
   "mimetype": "text/x-python",
   "name": "python",
   "nbconvert_exporter": "python",
   "pygments_lexer": "ipython3",
   "version": "3.9.12"
  }
 },
 "nbformat": 4,
 "nbformat_minor": 5
}
