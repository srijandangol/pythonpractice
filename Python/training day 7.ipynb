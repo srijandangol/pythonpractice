{
 "cells": [
  {
   "cell_type": "code",
   "execution_count": 1,
   "id": "5d175963",
   "metadata": {},
   "outputs": [],
   "source": [
    "#function and class\n",
    "\n",
    "#vehicles has wheels and seats, car also has wheel and seats , bus also has wheel and seats \n",
    "# - > vehicle is called \"class\", its features are wheel and seats"
   ]
  },
  {
   "cell_type": "code",
   "execution_count": 2,
   "id": "1378ae55",
   "metadata": {},
   "outputs": [],
   "source": [
    "class FirstClass:  #This defines the class\n",
    "    x = 'This is my first class' #This is class variable"
   ]
  },
  {
   "cell_type": "code",
   "execution_count": 3,
   "id": "e0779538",
   "metadata": {},
   "outputs": [],
   "source": [
    "o1= FirstClass()\n",
    "#o1 is the object of the class FirstClass"
   ]
  },
  {
   "cell_type": "code",
   "execution_count": 4,
   "id": "0a49a228",
   "metadata": {},
   "outputs": [
    {
     "data": {
      "text/plain": [
       "'This is my first class'"
      ]
     },
     "execution_count": 4,
     "metadata": {},
     "output_type": "execute_result"
    }
   ],
   "source": [
    "o1.x"
   ]
  },
  {
   "cell_type": "code",
   "execution_count": 5,
   "id": "96be7c53",
   "metadata": {},
   "outputs": [
    {
     "data": {
      "text/plain": [
       "'This is my first class'"
      ]
     },
     "execution_count": 5,
     "metadata": {},
     "output_type": "execute_result"
    }
   ],
   "source": [
    "FirstClass().x"
   ]
  },
  {
   "cell_type": "code",
   "execution_count": 6,
   "id": "6d931650",
   "metadata": {},
   "outputs": [
    {
     "name": "stdout",
     "output_type": "stream",
     "text": [
      "Hello from Person\n"
     ]
    }
   ],
   "source": [
    "class Person:\n",
    "    def __init__(self, name, age, gender, houses= 0, atm_pin=1234): #constructor #blue print or template is formed \n",
    "        #pass  # when any function is to be left empty we put pass in it\n",
    "        self.name = name\n",
    "        self.age = age\n",
    "        self.sex = gender\n",
    "        self._houses = houses       #emulating protected variable\n",
    "        self.__atm_pin = atm_pin    #emulating private variable\n",
    "\n",
    "    def display_information(self, ):\n",
    "        message = f'''\n",
    "        Hello, I am {self.name}, I am {self.age} years old, \n",
    "        I am {self.sex}, My have {self._houses} and my ATM pin is {self.__atm_pin}\n",
    "        '''\n",
    "        print (message)\n",
    "    \n",
    "    def hello(self):\n",
    "        message = \"Hello from Person\" #constructor\n",
    "        print (message)\n",
    "        \n",
    "p1 =Person('Hari Bahadur',50, 'M')\n",
    "p2= Person('Hari Maya', 45, 'F')\n",
    "p1.hello()"
   ]
  },
  {
   "cell_type": "code",
   "execution_count": 7,
   "id": "e8bd1af4",
   "metadata": {},
   "outputs": [
    {
     "data": {
      "text/plain": [
       "'Hari Bahadur'"
      ]
     },
     "execution_count": 7,
     "metadata": {},
     "output_type": "execute_result"
    }
   ],
   "source": [
    "p1.name"
   ]
  },
  {
   "cell_type": "code",
   "execution_count": 8,
   "id": "38fca4b3",
   "metadata": {},
   "outputs": [
    {
     "data": {
      "text/plain": [
       "'Hari Maya'"
      ]
     },
     "execution_count": 8,
     "metadata": {},
     "output_type": "execute_result"
    }
   ],
   "source": [
    "p2.name"
   ]
  },
  {
   "cell_type": "code",
   "execution_count": 9,
   "id": "60bba500",
   "metadata": {},
   "outputs": [
    {
     "data": {
      "text/plain": [
       "45"
      ]
     },
     "execution_count": 9,
     "metadata": {},
     "output_type": "execute_result"
    }
   ],
   "source": [
    "p2.age"
   ]
  },
  {
   "cell_type": "code",
   "execution_count": 10,
   "id": "1224fb0e",
   "metadata": {},
   "outputs": [
    {
     "data": {
      "text/plain": [
       "'F'"
      ]
     },
     "execution_count": 10,
     "metadata": {},
     "output_type": "execute_result"
    }
   ],
   "source": [
    "p2.sex"
   ]
  },
  {
   "cell_type": "code",
   "execution_count": 11,
   "id": "833a606b",
   "metadata": {},
   "outputs": [],
   "source": [
    "pe = Person (age = 12, name='Deerwalk', gender = 'M' )"
   ]
  },
  {
   "cell_type": "code",
   "execution_count": 12,
   "id": "d7473ec4",
   "metadata": {},
   "outputs": [
    {
     "name": "stdout",
     "output_type": "stream",
     "text": [
      "\n",
      "        Hello, I am Hari Bahadur, I am 50 years old, \n",
      "        I am M, My have 0 and my ATM pin is 1234\n",
      "        \n"
     ]
    }
   ],
   "source": [
    "p1.display_information()"
   ]
  },
  {
   "cell_type": "code",
   "execution_count": 13,
   "id": "ef07c266",
   "metadata": {},
   "outputs": [
    {
     "name": "stdout",
     "output_type": "stream",
     "text": [
      "\n",
      "        Hello, I am Hari Maya, I am 45 years old, \n",
      "        I am F, My have 0 and my ATM pin is 1234\n",
      "        \n"
     ]
    }
   ],
   "source": [
    "p2.display_information()"
   ]
  },
  {
   "cell_type": "code",
   "execution_count": 14,
   "id": "e93cbd9a",
   "metadata": {},
   "outputs": [
    {
     "data": {
      "text/plain": [
       "0"
      ]
     },
     "execution_count": 14,
     "metadata": {},
     "output_type": "execute_result"
    }
   ],
   "source": [
    "p1._houses # reading protected variable use _"
   ]
  },
  {
   "cell_type": "code",
   "execution_count": 15,
   "id": "0143aff8",
   "metadata": {},
   "outputs": [
    {
     "data": {
      "text/plain": [
       "1234"
      ]
     },
     "execution_count": 15,
     "metadata": {},
     "output_type": "execute_result"
    }
   ],
   "source": [
    "p1._Person__atm_pin #reading the private variable, use class and double underscore"
   ]
  },
  {
   "cell_type": "code",
   "execution_count": 16,
   "id": "04591e32",
   "metadata": {},
   "outputs": [
    {
     "data": {
      "text/plain": [
       "\"\\nCreate a class with following features - >\\nvtype: 'car', 'bike', 'bus'\\nwheeels: 4, 2, 6\\nprice: 2000, 500, 7000\\nmodel_year: 1988, 2005, 2015\\nowner_name: Madan, Hari, Shyam\\nseats: 6, 2, 50\\n\\n\""
      ]
     },
     "execution_count": 16,
     "metadata": {},
     "output_type": "execute_result"
    }
   ],
   "source": [
    "'''\n",
    "Create a class with following features - >\n",
    "vtype: 'car', 'bike', 'bus'\n",
    "wheeels: 4, 2, 6\n",
    "price: 2000, 500, 7000\n",
    "model_year: 1988, 2005, 2015\n",
    "owner_name: Madan, Hari, Shyam\n",
    "seats: 6, 2, 50\n",
    "\n",
    "'''"
   ]
  },
  {
   "cell_type": "code",
   "execution_count": 47,
   "id": "9bf1a5b6",
   "metadata": {},
   "outputs": [],
   "source": [
    "class Vehicle:\n",
    "    def __init__(self, vtype, wheels, price=0, model_year = 2000, owner_name = None, seats = 2): \n",
    "                # ___init___ is a constructor\n",
    "        self.vtype= vtype\n",
    "        self.wheels = wheels\n",
    "        self.price = price\n",
    "        self.model_year= model_year\n",
    "        self.owner_name = owner_name\n",
    "        self.seats = seats\n",
    "        \n",
    "    def display_information(self, ):\n",
    "        message = f'''\n",
    "        Hi, {self.owner_name} has a {self.vtype} as vehicle, it has {self.wheels} number of wheels, \n",
    "        its price is {self.price}$, it was built on Year {self.model_year},\n",
    "        it has {self.seats} seats\n",
    "        '''\n",
    "        print (message)\n",
    "      \n",
    "v1 = Vehicle('Car', 4, 2000, 1988,'Madan', 6)\n",
    "v2= Vehicle('Bike', 2, 500, 2005,'Hari', 2)\n",
    "v3=Vehicle('Bus', 6, 7000, 2015,'Shyam', 50)\n",
    "    "
   ]
  },
  {
   "cell_type": "code",
   "execution_count": 48,
   "id": "046a97fd",
   "metadata": {},
   "outputs": [
    {
     "data": {
      "text/plain": [
       "4"
      ]
     },
     "execution_count": 48,
     "metadata": {},
     "output_type": "execute_result"
    }
   ],
   "source": [
    "v1.wheels"
   ]
  },
  {
   "cell_type": "code",
   "execution_count": 49,
   "id": "8029fbf9",
   "metadata": {},
   "outputs": [
    {
     "data": {
      "text/plain": [
       "'Bike'"
      ]
     },
     "execution_count": 49,
     "metadata": {},
     "output_type": "execute_result"
    }
   ],
   "source": [
    "v2.vtype"
   ]
  },
  {
   "cell_type": "code",
   "execution_count": 50,
   "id": "a4841af1",
   "metadata": {},
   "outputs": [
    {
     "name": "stdout",
     "output_type": "stream",
     "text": [
      "\n",
      "        Hi, Hari has a Bike as vehicle, it has 2 number of wheels, \n",
      "        its price is 500$, it was built on Year 2005,\n",
      "        it has 2 seats\n",
      "        \n"
     ]
    }
   ],
   "source": [
    "v2.display_information()"
   ]
  },
  {
   "cell_type": "code",
   "execution_count": 51,
   "id": "0d598f0e",
   "metadata": {},
   "outputs": [
    {
     "name": "stdout",
     "output_type": "stream",
     "text": [
      "\n",
      "        Hi, Madan has a Car as vehicle, it has 4 number of wheels, \n",
      "        its price is 2000$, it was built on Year 1988,\n",
      "        it has 6 seats\n",
      "        \n"
     ]
    }
   ],
   "source": [
    "v1.display_information()"
   ]
  },
  {
   "cell_type": "code",
   "execution_count": 52,
   "id": "a80af36d",
   "metadata": {},
   "outputs": [
    {
     "name": "stdout",
     "output_type": "stream",
     "text": [
      "\n",
      "        Hi, Shyam has a Bus as vehicle, it has 6 number of wheels, \n",
      "        its price is 7000$, it was built on Year 2015,\n",
      "        it has 50 seats\n",
      "        \n"
     ]
    }
   ],
   "source": [
    "v3.display_information()"
   ]
  },
  {
   "cell_type": "code",
   "execution_count": 53,
   "id": "a2221c92",
   "metadata": {},
   "outputs": [
    {
     "name": "stdout",
     "output_type": "stream",
     "text": [
      "Python 3.9.12\n"
     ]
    }
   ],
   "source": [
    "!python --version #check python version"
   ]
  },
  {
   "cell_type": "code",
   "execution_count": null,
   "id": "09a6d694",
   "metadata": {},
   "outputs": [],
   "source": [
    "#create a class Bankaccount with features / argument --> name, address, account_no, balance\n",
    "#create function add balance - to_add\n",
    "#create function subtract balance - to_subtract\n",
    "\n",
    "class Bankaccount:\n",
    "    def __init__ (self, name, address, account_no, balance):\n",
    "        \n",
    "    \n",
    "    def add_balance (to_add):\n",
    "        #balance += to add\n",
    "        \n",
    "    def decrease_balance (to_decrease):\n",
    "        balance -= to_decrease\n",
    "        \n",
    "#Hari = (.... )\n",
    "#Shyam = (.....)"
   ]
  }
 ],
 "metadata": {
  "kernelspec": {
   "display_name": "Python 3 (ipykernel)",
   "language": "python",
   "name": "python3"
  },
  "language_info": {
   "codemirror_mode": {
    "name": "ipython",
    "version": 3
   },
   "file_extension": ".py",
   "mimetype": "text/x-python",
   "name": "python",
   "nbconvert_exporter": "python",
   "pygments_lexer": "ipython3",
   "version": "3.9.7"
  }
 },
 "nbformat": 4,
 "nbformat_minor": 5
}
