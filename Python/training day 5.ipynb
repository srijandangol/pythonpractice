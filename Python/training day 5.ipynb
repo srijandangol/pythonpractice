{
 "cells": [
  {
   "cell_type": "code",
   "execution_count": 1,
   "id": "e31b02e5",
   "metadata": {},
   "outputs": [
    {
     "name": "stdout",
     "output_type": "stream",
     "text": [
      "0\n",
      "1\n",
      "2\n",
      "3\n",
      "4\n",
      "5\n",
      "6\n",
      "7\n",
      "8\n",
      "9\n"
     ]
    }
   ],
   "source": [
    "#loops\n",
    "'''\n",
    "1) for.... loop\n",
    "2) while.... loop\n",
    "3) do .... while loop\n",
    "'''\n",
    "\n",
    "#for (condition) -> entry control loop\n",
    "\n",
    "#while (condition) -> entry control loop\n",
    "\n",
    "'''\n",
    "do\n",
    "\n",
    "while (condition) -> exit control loop\n",
    "'''\n",
    "\n",
    "'''\n",
    "while True\n",
    "\n",
    "if (condition)\n",
    "break\n",
    "'''\n",
    "\n",
    "#WAP to display numbers less than 'n'\n",
    "\n",
    "i=0\n",
    "while i<10:\n",
    "    print (i)\n",
    "    i+=1"
   ]
  },
  {
   "cell_type": "code",
   "execution_count": 2,
   "id": "4fc15b87",
   "metadata": {},
   "outputs": [
    {
     "name": "stdout",
     "output_type": "stream",
     "text": [
      "0\n",
      "1\n",
      "2\n",
      "3\n",
      "4\n",
      "5\n",
      "6\n",
      "7\n",
      "8\n",
      "9\n",
      "10\n"
     ]
    }
   ],
   "source": [
    "#emulating do.. while loop\n",
    "i=0\n",
    "while True:\n",
    "    print (i)\n",
    "    i+=1\n",
    "    if i>10:\n",
    "        break"
   ]
  },
  {
   "cell_type": "code",
   "execution_count": 3,
   "id": "2e2adea2",
   "metadata": {},
   "outputs": [
    {
     "name": "stdout",
     "output_type": "stream",
     "text": [
      "enter your input\n",
      "Enter your input: q\n"
     ]
    }
   ],
   "source": [
    "#WAP to take user input and exit if input is \"q\"\n",
    "\n",
    "while True:\n",
    "    print ('enter your input')\n",
    "    user_input = input ('Enter your input: ')\n",
    "    \n",
    "    if user_input == \"q\":\n",
    "        break\n"
   ]
  },
  {
   "cell_type": "code",
   "execution_count": 4,
   "id": "e5972989",
   "metadata": {},
   "outputs": [
    {
     "name": "stdout",
     "output_type": "stream",
     "text": [
      "Press q to Exit:a\n",
      "Press q to Exit:r\n",
      "Press q to Exit:q\n"
     ]
    }
   ],
   "source": [
    "ans = \" \"\n",
    "while ans.lower()!='q':\n",
    "    ans = input ('Press q to Exit:')"
   ]
  },
  {
   "cell_type": "code",
   "execution_count": 6,
   "id": "69747c06",
   "metadata": {},
   "outputs": [],
   "source": [
    "# def function_name ()\n",
    "# statements\n",
    "\n",
    "def my_function():  #there is no argument here\n",
    "    print ('my_function says hello')"
   ]
  },
  {
   "cell_type": "code",
   "execution_count": 7,
   "id": "7968d436",
   "metadata": {},
   "outputs": [
    {
     "name": "stdout",
     "output_type": "stream",
     "text": [
      "my_function says hello\n"
     ]
    }
   ],
   "source": [
    "my_function()"
   ]
  },
  {
   "cell_type": "code",
   "execution_count": 8,
   "id": "47fea3e2",
   "metadata": {},
   "outputs": [],
   "source": [
    "def my_function2(message):  #message is argument\n",
    "    new_message = f'{message} from my_function2'\n",
    "    return new_message#\n"
   ]
  },
  {
   "cell_type": "code",
   "execution_count": 9,
   "id": "8d38ec15",
   "metadata": {},
   "outputs": [],
   "source": [
    "x= my_function2('ahoy')"
   ]
  },
  {
   "cell_type": "code",
   "execution_count": 17,
   "id": "9d19fdc6",
   "metadata": {},
   "outputs": [
    {
     "data": {
      "text/plain": [
       "'ahoy from my_function2'"
      ]
     },
     "execution_count": 17,
     "metadata": {},
     "output_type": "execute_result"
    }
   ],
   "source": [
    "x"
   ]
  },
  {
   "cell_type": "code",
   "execution_count": 18,
   "id": "c76aa968",
   "metadata": {},
   "outputs": [
    {
     "data": {
      "text/plain": [
       "'Greetings from my_function2'"
      ]
     },
     "execution_count": 18,
     "metadata": {},
     "output_type": "execute_result"
    }
   ],
   "source": [
    "x= my_function2('Greetings')\n",
    "x"
   ]
  },
  {
   "cell_type": "code",
   "execution_count": 20,
   "id": "421ed8db",
   "metadata": {},
   "outputs": [],
   "source": [
    "# defining\n",
    "def find_sum (a,b):\n",
    "    return a+b"
   ]
  },
  {
   "cell_type": "code",
   "execution_count": 24,
   "id": "b3994159",
   "metadata": {},
   "outputs": [
    {
     "data": {
      "text/plain": [
       "9"
      ]
     },
     "execution_count": 24,
     "metadata": {},
     "output_type": "execute_result"
    }
   ],
   "source": [
    "x=find_sum(4,5)\n",
    "x"
   ]
  },
  {
   "cell_type": "code",
   "execution_count": 25,
   "id": "0b06d594",
   "metadata": {},
   "outputs": [],
   "source": [
    "def find_sum1 (a,b):\n",
    "    return a+b"
   ]
  },
  {
   "cell_type": "code",
   "execution_count": 30,
   "id": "cc063910",
   "metadata": {},
   "outputs": [
    {
     "name": "stdout",
     "output_type": "stream",
     "text": [
      "Enter number 1: 45\n",
      "Enter number 2: 36\n",
      "Sum is: 81\n"
     ]
    }
   ],
   "source": [
    "m = input ('Enter number 1: ')\n",
    "n = input ('Enter number 2: ')\n",
    "x=find_sum(int(m),int(n))\n",
    "print (f'Sum is: {x}')"
   ]
  },
  {
   "cell_type": "code",
   "execution_count": 50,
   "id": "935749ac",
   "metadata": {},
   "outputs": [
    {
     "name": "stdout",
     "output_type": "stream",
     "text": [
      "Sum: 0\n"
     ]
    }
   ],
   "source": [
    "def find_sum(a=0, b=0):\n",
    "    #print (f'a: {a}, b: {b}')\n",
    "    print (f'Sum: {a+b}')\n",
    "    \n",
    "find_sum()"
   ]
  },
  {
   "cell_type": "code",
   "execution_count": 51,
   "id": "7e9efb68",
   "metadata": {},
   "outputs": [
    {
     "name": "stdout",
     "output_type": "stream",
     "text": [
      "Sum: 5\n"
     ]
    }
   ],
   "source": [
    "find_sum(b=5)"
   ]
  },
  {
   "cell_type": "code",
   "execution_count": 52,
   "id": "8d39125f",
   "metadata": {},
   "outputs": [
    {
     "name": "stdout",
     "output_type": "stream",
     "text": [
      "Sum: 45\n"
     ]
    }
   ],
   "source": [
    "find_sum(45)"
   ]
  },
  {
   "cell_type": "code",
   "execution_count": 60,
   "id": "da2856ec",
   "metadata": {},
   "outputs": [
    {
     "name": "stdout",
     "output_type": "stream",
     "text": [
      "Product is: 0\n"
     ]
    }
   ],
   "source": [
    "#create a function to find product of two numbers\n",
    "\n",
    "def find_product(a=0 , b=0):\n",
    "    #print (f'a: {a}, b: {b}')\n",
    "    print (f'Product is: {a*b}')\n",
    "    \n",
    "find_product(b=2)"
   ]
  },
  {
   "cell_type": "code",
   "execution_count": 61,
   "id": "6fa8ffb4",
   "metadata": {},
   "outputs": [
    {
     "name": "stdout",
     "output_type": "stream",
     "text": [
      "Difference of a and b is: -21\n"
     ]
    }
   ],
   "source": [
    "#create a function to find difference of two numbers\n",
    "\n",
    "def find_difference(a=0, b=0):\n",
    "    #print (f'a: {a}, b:{b}')\n",
    "    print (f'Difference of a and b is: {a-b}')\n",
    "    \n",
    "find_difference(48,69)"
   ]
  },
  {
   "cell_type": "code",
   "execution_count": 62,
   "id": "84997c77",
   "metadata": {},
   "outputs": [
    {
     "name": "stdout",
     "output_type": "stream",
     "text": [
      "Quotient of a and b(a/b): 4.0\n"
     ]
    }
   ],
   "source": [
    "#create a function to find quotient of two numbers\n",
    "\n",
    "def find_division(a=1, b=1):\n",
    "    print (f'Quotient of a and b(a/b): {(a/b)}')\n",
    "    \n",
    "find_division(4)"
   ]
  },
  {
   "cell_type": "code",
   "execution_count": 63,
   "id": "facbd153",
   "metadata": {},
   "outputs": [
    {
     "data": {
      "text/plain": [
       "2"
      ]
     },
     "execution_count": 63,
     "metadata": {},
     "output_type": "execute_result"
    }
   ],
   "source": [
    "#In 3.1416 ; floor = 3 and ceiling = 4\n",
    "\n",
    "5//2"
   ]
  },
  {
   "cell_type": "code",
   "execution_count": 64,
   "id": "fda0662a",
   "metadata": {},
   "outputs": [
    {
     "name": "stdout",
     "output_type": "stream",
     "text": [
      "Sum: 89\n",
      "Difference of a and b is: 15\n",
      "Product is: 1924\n",
      "Quotient of a and b(a/b): 1.4054054054054055\n"
     ]
    }
   ],
   "source": [
    "def mathematics(a,b):\n",
    "    find_sum(a,b)\n",
    "    find_difference(a,b)\n",
    "    find_product(a,b)\n",
    "    find_division(a,b)\n",
    "\n",
    "mathematics(52,37)"
   ]
  },
  {
   "cell_type": "code",
   "execution_count": 65,
   "id": "7794582b",
   "metadata": {},
   "outputs": [
    {
     "name": "stdout",
     "output_type": "stream",
     "text": [
      "Product is: 0\n"
     ]
    }
   ],
   "source": [
    "find_product()"
   ]
  },
  {
   "cell_type": "code",
   "execution_count": 66,
   "id": "0e8c42d7",
   "metadata": {},
   "outputs": [
    {
     "name": "stdout",
     "output_type": "stream",
     "text": [
      "Enter number 1: 48\n",
      "Enter number 2: 69\n",
      "Sum: 117\n",
      "Difference of a and b is: -21\n",
      "Product is: 3312\n",
      "Quotient of a and b(a/b): 0.6956521739130435\n"
     ]
    }
   ],
   "source": [
    "m=int(input('Enter number 1: '))\n",
    "n=int(input('Enter number 2: '))\n",
    "mathematics(m,n)"
   ]
  },
  {
   "cell_type": "code",
   "execution_count": 67,
   "id": "e300937c",
   "metadata": {},
   "outputs": [],
   "source": [
    "?round"
   ]
  },
  {
   "cell_type": "code",
   "execution_count": 73,
   "id": "97be7696",
   "metadata": {},
   "outputs": [
    {
     "name": "stdout",
     "output_type": "stream",
     "text": [
      "Child function 2\n",
      "Child function 3\n"
     ]
    }
   ],
   "source": [
    "#Nested function\n",
    "'''\n",
    "parent function \n",
    "    child function\n",
    "    \n",
    "'''\n",
    "def parent_function():\n",
    "    def child_function1():\n",
    "        pass  #note when there is nothing to return use 'pass' to prevent error\n",
    "    def child_function2():\n",
    "        print('Child function 2')\n",
    "    def child_function3():\n",
    "        print('Child function 3')\n",
    "    child_function1()\n",
    "    child_function2()\n",
    "    child_function3()\n",
    "        \n",
    "parent_function()\n",
    "    \n"
   ]
  },
  {
   "cell_type": "code",
   "execution_count": 79,
   "id": "a28f5265",
   "metadata": {},
   "outputs": [
    {
     "name": "stdout",
     "output_type": "stream",
     "text": [
      "Sum is: 11\n",
      "Difference is: -1\n",
      "Product is: 30\n",
      "Quotient is: 0.8333333333333334\n"
     ]
    }
   ],
   "source": [
    "#parent function and child function\n",
    "\n",
    "def mathematics(a,b):\n",
    "    def find_sum(a,b):\n",
    "        print (f'Sum is: {a+b}')\n",
    "    def find_diff(a,b):\n",
    "        print (f'Difference is: {a-b}')\n",
    "    def find_product(a,b):\n",
    "        print (f'Product is: {a*b}')\n",
    "    def find_quotient(a,b):\n",
    "        print (f'Quotient is: {a/b}')\n",
    "    find_sum(a,b)\n",
    "    find_diff(a,b)\n",
    "    find_product(a,b)\n",
    "    find_quotient(a,b)\n",
    "               \n",
    "mathematics(5,6)"
   ]
  },
  {
   "cell_type": "code",
   "execution_count": 80,
   "id": "c0174ebb",
   "metadata": {},
   "outputs": [
    {
     "data": {
      "text/plain": [
       "15"
      ]
     },
     "execution_count": 80,
     "metadata": {},
     "output_type": "execute_result"
    }
   ],
   "source": [
    "#Lambda function\n",
    "x= lambda a: a+10   #making a function with parameter without using lambda\n",
    "\n",
    "\n",
    "x(5)"
   ]
  },
  {
   "cell_type": "code",
   "execution_count": 81,
   "id": "fc618280",
   "metadata": {},
   "outputs": [
    {
     "data": {
      "text/plain": [
       "function"
      ]
     },
     "execution_count": 81,
     "metadata": {},
     "output_type": "execute_result"
    }
   ],
   "source": [
    "type(x)"
   ]
  },
  {
   "cell_type": "code",
   "execution_count": 86,
   "id": "9f75bcec",
   "metadata": {},
   "outputs": [
    {
     "name": "stdout",
     "output_type": "stream",
     "text": [
      "Sum is: 11\n",
      "Difference is : -1\n",
      "Product is: 63\n",
      "Quotient is: 4.0\n"
     ]
    }
   ],
   "source": [
    "add = lambda a,b : a+b\n",
    "diff = lambda a,b : a-b\n",
    "prod = lambda a,b : a*b\n",
    "quot = lambda a,b : a/b\n",
    "\n",
    "print (f'Sum is: {add(5,6)}')\n",
    "print (f'Difference is : {diff(5,6)}')\n",
    "print (f'Product is: {prod(7,9)}')\n",
    "print (f'Quotient is: {quot(8,2)}')"
   ]
  },
  {
   "cell_type": "code",
   "execution_count": 88,
   "id": "5c1e7772",
   "metadata": {},
   "outputs": [
    {
     "name": "stdout",
     "output_type": "stream",
     "text": [
      "Enter any string: adfereg\n",
      "Reverse of adfereg is: gerefda\n"
     ]
    }
   ],
   "source": [
    "reverse = lambda a: a[::-1]\n",
    "\n",
    "s= input('Enter any string: ')\n",
    "print (f'Reverse of {s} is: {reverse(s)}')\n"
   ]
  },
  {
   "cell_type": "code",
   "execution_count": null,
   "id": "b5137bb6",
   "metadata": {},
   "outputs": [],
   "source": [
    "#make a simple calculator in Python\n"
   ]
  }
 ],
 "metadata": {
  "kernelspec": {
   "display_name": "Python 3 (ipykernel)",
   "language": "python",
   "name": "python3"
  },
  "language_info": {
   "codemirror_mode": {
    "name": "ipython",
    "version": 3
   },
   "file_extension": ".py",
   "mimetype": "text/x-python",
   "name": "python",
   "nbconvert_exporter": "python",
   "pygments_lexer": "ipython3",
   "version": "3.9.7"
  }
 },
 "nbformat": 4,
 "nbformat_minor": 5
}
