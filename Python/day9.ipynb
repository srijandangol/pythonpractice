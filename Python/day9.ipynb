{
 "cells": [
  {
   "cell_type": "code",
   "execution_count": 1,
   "id": "f6c447a6",
   "metadata": {},
   "outputs": [
    {
     "name": "stdout",
     "output_type": "stream",
     "text": [
      "ram\t pyari\n"
     ]
    }
   ],
   "source": [
    "class person:\n",
    "    def __init__(person,fname,lname,gender):\n",
    "        person.fname=fname\n",
    "        person.lname=lname\n",
    "        person.s_name=\"homo sapiens\"\n",
    "        person.gender=gender\n",
    "    def print_detail(person):\n",
    "        print(f\"{person.fname}\\t {person.lname}\")\n",
    "p1=person('pratik','kadariya',\"M\")\n",
    "\n",
    "class student(person):\n",
    "    def __init__(student,fname,lname,gender,grad_year,degree):\n",
    "        super().__init__(fname,lname,gender)\n",
    "        student.pass_year=grad_year\n",
    "        student.deg=degree\n",
    "        \n",
    "s1=student('ram','pyari','f',2021,'master')\n",
    "s1.print_detail()       \n",
    "     "
   ]
  },
  {
   "cell_type": "code",
   "execution_count": 38,
   "id": "cce39d53",
   "metadata": {},
   "outputs": [
    {
     "name": "stdout",
     "output_type": "stream",
     "text": [
      "perimeter is 48 of square\n",
      "perimeter is 48 of rect\n"
     ]
    }
   ],
   "source": [
    " class polygon:\n",
    "    def __init__(self,length,breadth,name,sides):\n",
    "        self.length=length\n",
    "        self.sides=sides\n",
    "        self.breadth=breadth\n",
    "        self.name=name\n",
    "        \n",
    "    def print_detail(self):\n",
    "        print(f\" length is{self.length}\\t no of sides{self.sides} and is {self.name}\")\n",
    "        \n",
    "    def perimeter(self):\n",
    "        print(f'perimeter is {2*(self.length+self.breadth)} of {self.name}')\n",
    "\n",
    "class square(polygon):\n",
    "    def __init__(self,length,breadth,name,sides):\n",
    "        super().__init__(length,breadth,name,sides)\n",
    "        \n",
    "class rectangle(polygon):\n",
    "    def __init__(self,length,breadth,name,sides):\n",
    "        super().__init__(length,breadth,name,sides)\n",
    "    \n",
    "sq=square(12,12,'square',4)\n",
    "sq.perimeter()\n",
    "rec=rectangle(12,12,'rect',4)       \n",
    "rec.perimeter()\n",
    "\n",
    "     "
   ]
  },
  {
   "cell_type": "code",
   "execution_count": 40,
   "id": "449c8fcb",
   "metadata": {},
   "outputs": [
    {
     "data": {
      "text/plain": [
       "'1.21.5'"
      ]
     },
     "execution_count": 40,
     "metadata": {},
     "output_type": "execute_result"
    }
   ],
   "source": [
    "import numpy\n",
    "numpy.__version__"
   ]
  },
  {
   "cell_type": "code",
   "execution_count": null,
   "id": "166c9506",
   "metadata": {},
   "outputs": [],
   "source": []
  }
 ],
 "metadata": {
  "kernelspec": {
   "display_name": "Python 3 (ipykernel)",
   "language": "python",
   "name": "python3"
  },
  "language_info": {
   "codemirror_mode": {
    "name": "ipython",
    "version": 3
   },
   "file_extension": ".py",
   "mimetype": "text/x-python",
   "name": "python",
   "nbconvert_exporter": "python",
   "pygments_lexer": "ipython3",
   "version": "3.9.12"
  }
 },
 "nbformat": 4,
 "nbformat_minor": 5
}
