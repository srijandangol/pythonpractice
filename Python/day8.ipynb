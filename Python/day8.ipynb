{
 "cells": [
  {
   "cell_type": "code",
   "execution_count": 1,
   "id": "df6b455f",
   "metadata": {},
   "outputs": [
    {
     "name": "stdout",
     "output_type": "stream",
     "text": [
      "this is an animal,\n",
      "        subkingdom is elephant,\n",
      "        and exmaples ismammal\n"
     ]
    }
   ],
   "source": [
    "class animal:\n",
    "    def __init__(animal,sub_kingdom,phylum,examples):\n",
    "        animal.sub_kingdom = sub_kingdom\n",
    "        animal.phylum = phylum\n",
    "        animal.examples = examples\n",
    "#     def view_details(animal):\n",
    "#         info=f''':sub_kingdom {animal.sub_kingdom}\n",
    "#                   phylum: {animal.phylum}\n",
    "#                 examples: {animal.examples}\n",
    "#            ''' \n",
    "#         print(info)  \n",
    "    def __str__(animal):\n",
    "        info=f'''this is an animal,\n",
    "        subkingdom is {animal.sub_kingdom},\n",
    "        and exmaples is{animal.examples}'''\n",
    "        return info\n",
    "a1=animal('elephant','vertebrate','mammal')\n",
    "\n",
    "print(a1.__str__()) \n",
    "# print(a1)\n",
    "# a1.view_details()"
   ]
  },
  {
   "cell_type": "code",
   "execution_count": 23,
   "id": "84a85049",
   "metadata": {},
   "outputs": [
    {
     "name": "stdout",
     "output_type": "stream",
     "text": [
      "enter a1\n",
      "enter b2\n"
     ]
    },
    {
     "ename": "TypeError",
     "evalue": "func() takes 0 positional arguments but 1 was given",
     "output_type": "error",
     "traceback": [
      "\u001b[1;31m---------------------------------------------------------------------------\u001b[0m",
      "\u001b[1;31mTypeError\u001b[0m                                 Traceback (most recent call last)",
      "Input \u001b[1;32mIn [23]\u001b[0m, in \u001b[0;36m<cell line: 31>\u001b[1;34m()\u001b[0m\n\u001b[0;32m     28\u001b[0m             div(number\u001b[38;5;241m.\u001b[39ma,number\u001b[38;5;241m.\u001b[39mb)\n\u001b[0;32m     30\u001b[0m c1\u001b[38;5;241m=\u001b[39mcalculator()\n\u001b[1;32m---> 31\u001b[0m \u001b[43mc1\u001b[49m\u001b[38;5;241;43m.\u001b[39;49m\u001b[43mfunc\u001b[49m\u001b[43m(\u001b[49m\u001b[43m)\u001b[49m\n",
      "\u001b[1;31mTypeError\u001b[0m: func() takes 0 positional arguments but 1 was given"
     ]
    }
   ],
   "source": [
    "class calculator:\n",
    "    def __init__(number):\n",
    "        number.a=int(input('enter a'))\n",
    "        number.b=int(input('enter b'))\n",
    "\n",
    "    def sum(a,b):\n",
    "        print(number.a+number.b)\n",
    "    def diff():\n",
    "         print(number.a-number.b)\n",
    "            \n",
    "    def div():\n",
    "        print(number.a*number.b)\n",
    "        \n",
    "    def mul():\n",
    "        print(number.a/number.b)\n",
    "        \n",
    "    def func():\n",
    "        a=int(input('''what do u want to do\n",
    "        type 1 ,2,3,4 for add sub mul div for operation respectively\n",
    "        '''))\n",
    "        if a==1:\n",
    "            sum(number.a,number.b)\n",
    "        elif(a==2):\n",
    "            diff(bumber.a,number.b)\n",
    "        elif(a==3):\n",
    "            mul(number.a,number.b)\n",
    "        else:\n",
    "            div(number.a,number.b)\n",
    "        \n",
    "c1=calculator()\n",
    "c1.func()\n",
    "    \n",
    "        \n"
   ]
  },
  {
   "cell_type": "code",
   "execution_count": 33,
   "id": "319908be",
   "metadata": {},
   "outputs": [
    {
     "name": "stdout",
     "output_type": "stream",
     "text": [
      "input the first number12\n",
      "input the first number18\n",
      "hcf is 12\n"
     ]
    }
   ],
   "source": [
    "a=int(input('input the first number'))\n",
    "b=int(input('input the first number'))\n",
    "while True:\n",
    "    temp=a%b\n",
    "    if(temp==0):\n",
    "        print(f'hcf is{b}')\n",
    "        break\n",
    "    else:\n",
    "        b=a\n",
    "        temp=b\n",
    "        if(temp%a==0):\n",
    "            print(f'hcf is {temp}')\n",
    "            break\n",
    "        \n",
    "    "
   ]
  },
  {
   "cell_type": "code",
   "execution_count": 27,
   "id": "3ffe7b64",
   "metadata": {},
   "outputs": [
    {
     "name": "stdout",
     "output_type": "stream",
     "text": [
      "4\n"
     ]
    }
   ],
   "source": []
  }
 ],
 "metadata": {
  "kernelspec": {
   "display_name": "Python 3 (ipykernel)",
   "language": "python",
   "name": "python3"
  },
  "language_info": {
   "codemirror_mode": {
    "name": "ipython",
    "version": 3
   },
   "file_extension": ".py",
   "mimetype": "text/x-python",
   "name": "python",
   "nbconvert_exporter": "python",
   "pygments_lexer": "ipython3",
   "version": "3.9.12"
  }
 },
 "nbformat": 4,
 "nbformat_minor": 5
}
